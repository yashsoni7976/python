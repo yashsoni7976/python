{
 "cells": [
  {
   "cell_type": "raw",
   "id": "ae16511e-3c62-4af5-8385-562f5c1c01d3",
   "metadata": {},
   "source": [
    "Q3. How do you convert one data type to another in Python?"
   ]
  },
  {
   "cell_type": "raw",
   "id": "6ff5e27f-bdcc-4fa6-b119-2a6c42de9578",
   "metadata": {},
   "source": [
    "In python, we can easily convert one data type to another using built-in function like\n",
    "`int()`, `float()` and so on."
   ]
  },
  {
   "cell_type": "code",
   "execution_count": 1,
   "id": "0b0008f8-4a69-4b70-af9c-18060a0f19de",
   "metadata": {},
   "outputs": [],
   "source": [
    "a=int(40.50)"
   ]
  },
  {
   "cell_type": "code",
   "execution_count": 2,
   "id": "f7fde0cf-d769-4d5a-a78a-4dace0677be6",
   "metadata": {},
   "outputs": [
    {
     "name": "stdout",
     "output_type": "stream",
     "text": [
      "40\n"
     ]
    }
   ],
   "source": [
    "print(a)"
   ]
  },
  {
   "cell_type": "code",
   "execution_count": 3,
   "id": "fbc5d270-1253-4941-a265-5f03c4b0662b",
   "metadata": {},
   "outputs": [],
   "source": [
    "c=50\n",
    "d=str(50)"
   ]
  },
  {
   "cell_type": "code",
   "execution_count": 4,
   "id": "1d39305c-c9c5-4e41-88cf-43948f8d868f",
   "metadata": {},
   "outputs": [
    {
     "data": {
      "text/plain": [
       "int"
      ]
     },
     "execution_count": 4,
     "metadata": {},
     "output_type": "execute_result"
    }
   ],
   "source": [
    "type(c)"
   ]
  },
  {
   "cell_type": "code",
   "execution_count": 5,
   "id": "e5f508fa-8d4d-446e-ab78-85b80a70f21d",
   "metadata": {},
   "outputs": [
    {
     "data": {
      "text/plain": [
       "str"
      ]
     },
     "execution_count": 5,
     "metadata": {},
     "output_type": "execute_result"
    }
   ],
   "source": [
    "type(d)"
   ]
  },
  {
   "cell_type": "code",
   "execution_count": null,
   "id": "8ad9fc26-4f40-44f0-a0e0-7ad6b44be554",
   "metadata": {},
   "outputs": [],
   "source": []
  }
 ],
 "metadata": {
  "kernelspec": {
   "display_name": "Python 3 (ipykernel)",
   "language": "python",
   "name": "python3"
  },
  "language_info": {
   "codemirror_mode": {
    "name": "ipython",
    "version": 3
   },
   "file_extension": ".py",
   "mimetype": "text/x-python",
   "name": "python",
   "nbconvert_exporter": "python",
   "pygments_lexer": "ipython3",
   "version": "3.10.8"
  }
 },
 "nbformat": 4,
 "nbformat_minor": 5
}
