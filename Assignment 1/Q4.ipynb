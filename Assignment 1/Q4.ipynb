{
 "cells": [
  {
   "cell_type": "raw",
   "id": "2a998442-dd2f-46d7-969d-6cd39e4cf878",
   "metadata": {},
   "source": [
    "Q4. Create a list of length 10 of your choice containing multiple types of data. Using for loop print the\n",
    "element and its data type."
   ]
  },
  {
   "cell_type": "code",
   "execution_count": 4,
   "id": "a524d476-fcea-47be-bedd-56208251da50",
   "metadata": {
    "tags": []
   },
   "outputs": [
    {
     "name": "stdout",
     "output_type": "stream",
     "text": [
      "2\n",
      "3\n",
      "4\n",
      "Yash\n",
      "Soni\n",
      "(5+6j)\n",
      "35.22\n"
     ]
    }
   ],
   "source": [
    "l=[2,3,4,'Yash','Soni',5+6j,35.22,True]\n",
    "for i in range (0,7):\n",
    "\tprint(l[i])"
   ]
  }
 ],
 "metadata": {
  "kernelspec": {
   "display_name": "Python 3 (ipykernel)",
   "language": "python",
   "name": "python3"
  },
  "language_info": {
   "codemirror_mode": {
    "name": "ipython",
    "version": 3
   },
   "file_extension": ".py",
   "mimetype": "text/x-python",
   "name": "python",
   "nbconvert_exporter": "python",
   "pygments_lexer": "ipython3",
   "version": "3.10.8"
  }
 },
 "nbformat": 4,
 "nbformat_minor": 5
}
