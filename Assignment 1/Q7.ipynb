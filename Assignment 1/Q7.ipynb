{
 "cells": [
  {
   "cell_type": "raw",
   "id": "f00ad1d4-8172-4d71-9516-a74a9a9a5889",
   "metadata": {},
   "source": [
    "What do you understand about mutable and immutable data types? Give examples for both showing\n",
    "this property."
   ]
  },
  {
   "cell_type": "raw",
   "id": "08099c75-d3a7-42dc-a8c5-b066392d8394",
   "metadata": {},
   "source": [
    "Mutable Datatypes are those datatype whose value can be modified throughout the program. That means the data is not fixed. Example - List, Dictionaries,etc\n",
    "Immutable Datatypes are those datatype whose value cannot be modified throughout the program. That means the data is Fixed. Example -  string, integer, etc"
   ]
  },
  {
   "cell_type": "code",
   "execution_count": 11,
   "id": "597cf82c-4aaa-4630-b5ea-a00f1691b055",
   "metadata": {},
   "outputs": [
    {
     "name": "stdout",
     "output_type": "stream",
     "text": [
      "S\n"
     ]
    },
    {
     "ename": "TypeError",
     "evalue": "'str' object does not support item assignment",
     "output_type": "error",
     "traceback": [
      "\u001b[0;31m---------------------------------------------------------------------------\u001b[0m",
      "\u001b[0;31mTypeError\u001b[0m                                 Traceback (most recent call last)",
      "Cell \u001b[0;32mIn[11], line 3\u001b[0m\n\u001b[1;32m      1\u001b[0m a \u001b[38;5;241m=\u001b[39m \u001b[38;5;124m\"\u001b[39m\u001b[38;5;124mYash Soni\u001b[39m\u001b[38;5;124m\"\u001b[39m\n\u001b[1;32m      2\u001b[0m \u001b[38;5;28mprint\u001b[39m(a[\u001b[38;5;241m5\u001b[39m])\n\u001b[0;32m----> 3\u001b[0m \u001b[43ma\u001b[49m\u001b[43m[\u001b[49m\u001b[38;5;241;43m5\u001b[39;49m\u001b[43m]\u001b[49m\u001b[38;5;241m=\u001b[39m\u001b[38;5;124m\"\u001b[39m\u001b[38;5;124ms\u001b[39m\u001b[38;5;124m\"\u001b[39m\n",
      "\u001b[0;31mTypeError\u001b[0m: 'str' object does not support item assignment"
     ]
    }
   ],
   "source": [
    "# Immutable Datatype\n",
    "a = \"Yash Soni\"\n",
    "print(a[5])\n",
    "a[5]=\"s\""
   ]
  },
  {
   "cell_type": "code",
   "execution_count": null,
   "id": "f25cd0cd-3de8-417d-9e23-8150eace5ef1",
   "metadata": {},
   "outputs": [],
   "source": [
    "# Mutable Datatype\n",
    "b=[1,2,3,4,5,55+6j,\"Yash\"]\n",
    "print(b[5])\n",
    "b[5]=\"Soni\"\n",
    "print(b)"
   ]
  }
 ],
 "metadata": {
  "kernelspec": {
   "display_name": "Python 3 (ipykernel)",
   "language": "python",
   "name": "python3"
  },
  "language_info": {
   "codemirror_mode": {
    "name": "ipython",
    "version": 3
   },
   "file_extension": ".py",
   "mimetype": "text/x-python",
   "name": "python",
   "nbconvert_exporter": "python",
   "pygments_lexer": "ipython3",
   "version": "3.10.8"
  }
 },
 "nbformat": 4,
 "nbformat_minor": 5
}
