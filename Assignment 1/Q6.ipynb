{
 "cells": [
  {
   "cell_type": "raw",
   "id": "32a43902-28f3-4416-8609-fbdf918307c0",
   "metadata": {},
   "source": [
    "Create a list containing 25 int type data. Using for loop and if-else condition print if the element is\n",
    "divisible by 3 or not."
   ]
  },
  {
   "cell_type": "code",
   "execution_count": 28,
   "id": "506a449e-82c0-446b-baa0-312f82c3eade",
   "metadata": {},
   "outputs": [
    {
     "name": "stdout",
     "output_type": "stream",
     "text": [
      "[0, 1, 2, 3, 4, 5, 6, 7, 8, 9, 10, 11, 12, 13, 14, 15, 16, 17, 18, 19, 20, 21, 22, 23, 24]\n",
      "0 is Divisible by 3\n",
      "3 is Divisible by 3\n",
      "6 is Divisible by 3\n",
      "9 is Divisible by 3\n",
      "12 is Divisible by 3\n",
      "15 is Divisible by 3\n",
      "18 is Divisible by 3\n",
      "21 is Divisible by 3\n",
      "24 is Divisible by 3\n"
     ]
    }
   ],
   "source": [
    "a=list(range(25))\n",
    "print(a)\n",
    "\n",
    "for i in a:\n",
    "    if(i%3==0):\n",
    "        print(str(i)+\" is Divisible by 3\")"
   ]
  }
 ],
 "metadata": {
  "kernelspec": {
   "display_name": "Python 3 (ipykernel)",
   "language": "python",
   "name": "python3"
  },
  "language_info": {
   "codemirror_mode": {
    "name": "ipython",
    "version": 3
   },
   "file_extension": ".py",
   "mimetype": "text/x-python",
   "name": "python",
   "nbconvert_exporter": "python",
   "pygments_lexer": "ipython3",
   "version": "3.10.8"
  }
 },
 "nbformat": 4,
 "nbformat_minor": 5
}
