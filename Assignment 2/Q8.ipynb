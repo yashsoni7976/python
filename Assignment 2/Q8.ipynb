{
 "cells": [
  {
   "cell_type": "raw",
   "id": "6701845d-1c98-4684-80f6-ae0e11f4cd56",
   "metadata": {},
   "source": [
    "Q8. Declare a variable named price and assign the value 9.99 to it. What data type does this variable\n",
    "belong to?"
   ]
  },
  {
   "cell_type": "code",
   "execution_count": 1,
   "id": "9c778b74-b3be-4c63-8045-64d0ac44eaa2",
   "metadata": {},
   "outputs": [],
   "source": [
    "price=9.99"
   ]
  },
  {
   "cell_type": "raw",
   "id": "04d5d5f3-a7f0-4de6-abd0-57af23786ce0",
   "metadata": {},
   "source": [
    "the price variable belongs to the float data type."
   ]
  },
  {
   "cell_type": "code",
   "execution_count": 2,
   "id": "dc257504-71e8-4b15-be6d-ecef310c5ee1",
   "metadata": {},
   "outputs": [
    {
     "data": {
      "text/plain": [
       "float"
      ]
     },
     "execution_count": 2,
     "metadata": {},
     "output_type": "execute_result"
    }
   ],
   "source": [
    "type(price)"
   ]
  },
  {
   "cell_type": "code",
   "execution_count": null,
   "id": "62e0ca65-4abf-450a-a5be-9c285812a8ef",
   "metadata": {},
   "outputs": [],
   "source": []
  }
 ],
 "metadata": {
  "kernelspec": {
   "display_name": "Python 3 (ipykernel)",
   "language": "python",
   "name": "python3"
  },
  "language_info": {
   "codemirror_mode": {
    "name": "ipython",
    "version": 3
   },
   "file_extension": ".py",
   "mimetype": "text/x-python",
   "name": "python",
   "nbconvert_exporter": "python",
   "pygments_lexer": "ipython3",
   "version": "3.10.8"
  }
 },
 "nbformat": 4,
 "nbformat_minor": 5
}
