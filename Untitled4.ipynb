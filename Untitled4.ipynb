{
 "cells": [
  {
   "cell_type": "code",
   "execution_count": 6,
   "id": "44aa8fd2",
   "metadata": {},
   "outputs": [
    {
     "name": "stdout",
     "output_type": "stream",
     "text": [
      "['Yash', 21]\n"
     ]
    }
   ],
   "source": [
    "class test:\n",
    "    def __init__(self):\n",
    "        self.rname=\"Yash\"\n",
    "        self.rage=21\n",
    "    def printDet(self):\n",
    "        return self.rname,self.rage\n",
    "    \n",
    "t1=test()\n",
    "print(list(t1.printDet()))"
   ]
  },
  {
   "cell_type": "code",
   "execution_count": 7,
   "id": "bc5bae8a",
   "metadata": {},
   "outputs": [
    {
     "name": "stdout",
     "output_type": "stream",
     "text": [
      "['Yash', 21]\n"
     ]
    }
   ],
   "source": [
    "class test:\n",
    "    age=21\n",
    "    name='Yash'\n",
    "    def printDet(self):\n",
    "        return self.name,self.age\n",
    "    \n",
    "t1=test()\n",
    "print(list(t1.printDet()))"
   ]
  },
  {
   "cell_type": "code",
   "execution_count": 9,
   "id": "f4dac437",
   "metadata": {},
   "outputs": [
    {
     "name": "stdout",
     "output_type": "stream",
     "text": [
      "21\n",
      "Yash\n"
     ]
    }
   ],
   "source": [
    "class test:\n",
    "    age=21\n",
    "    name='Yash'\n",
    "    def printDet(self):\n",
    "        return self.name,self.age\n",
    "\n",
    "print(test.age)\n",
    "print(test.name)"
   ]
  },
  {
   "cell_type": "code",
   "execution_count": 11,
   "id": "6fb3d9c8",
   "metadata": {},
   "outputs": [
    {
     "name": "stdout",
     "output_type": "stream",
     "text": [
      "100\n"
     ]
    }
   ],
   "source": [
    "class test:\n",
    "    i=10\n",
    "    def f1(self):\n",
    "        return (self.i**2)\n",
    "t1=test()\n",
    "print(t1.f1())"
   ]
  },
  {
   "cell_type": "code",
   "execution_count": 19,
   "id": "7a310cc8",
   "metadata": {},
   "outputs": [
    {
     "name": "stdout",
     "output_type": "stream",
     "text": [
      "[1, 8, 27, 64, 125, 216, 343]\n"
     ]
    }
   ],
   "source": [
    "class test:\n",
    "    def f1(self,l):\n",
    "        self.l = list(map(lambda x: x**3,L))\n",
    "        return self.l\n",
    "\n",
    "L=[1,2,3,4,5,6,7]\n",
    "t1=test()\n",
    "print(t1.f1(L))"
   ]
  },
  {
   "cell_type": "code",
   "execution_count": 16,
   "id": "847f1d92",
   "metadata": {},
   "outputs": [
    {
     "name": "stdout",
     "output_type": "stream",
     "text": [
      "7\n"
     ]
    }
   ],
   "source": [
    "class test:\n",
    "    def f1(self,x,y):\n",
    "        return (x+y)\n",
    "t1=test()\n",
    "print(t1.f1(3,4))"
   ]
  },
  {
   "cell_type": "code",
   "execution_count": 18,
   "id": "2303164a",
   "metadata": {},
   "outputs": [
    {
     "name": "stdout",
     "output_type": "stream",
     "text": [
      "init\n",
      "hello\n",
      "10\n"
     ]
    }
   ],
   "source": [
    "class test:\n",
    "    i=10\n",
    "    def __init__(self):\n",
    "        print(\"init\")\n",
    "    def f1(self):\n",
    "        print(\"hello\")\n",
    "        print(self.i)\n",
    "t1=test()\n",
    "t1.f1()"
   ]
  },
  {
   "cell_type": "code",
   "execution_count": 22,
   "id": "f4c86761",
   "metadata": {},
   "outputs": [
    {
     "name": "stdout",
     "output_type": "stream",
     "text": [
      "Yash\n",
      "88\n",
      "CSE\n"
     ]
    }
   ],
   "source": [
    "class student:\n",
    "    def getData(self, Name, RNo, Branch):\n",
    "        self.Name=Name\n",
    "        self.RNo=RNo\n",
    "        self.Branch=Branch\n",
    "    def showData(self):\n",
    "        print(self.Name)\n",
    "        print(self.RNo)\n",
    "        print(self.Branch)\n",
    "s1=student()\n",
    "s1.getData(\"Yash\", 88, 'CSE')\n",
    "s1.showData()"
   ]
  },
  {
   "cell_type": "code",
   "execution_count": 23,
   "id": "7ef33bc2",
   "metadata": {},
   "outputs": [
    {
     "name": "stdout",
     "output_type": "stream",
     "text": [
      "Yash\n",
      "21\n"
     ]
    }
   ],
   "source": [
    "class person:\n",
    "    def __init__ (self,name,age):\n",
    "        self.name=name\n",
    "        self.age=age\n",
    "    def show(self):\n",
    "        print(self.name)\n",
    "        print(self.age)\n",
    "p1=person(\"Yash\",21)\n",
    "p1.show()"
   ]
  },
  {
   "cell_type": "code",
   "execution_count": 24,
   "id": "59b1f0a8",
   "metadata": {},
   "outputs": [
    {
     "name": "stdout",
     "output_type": "stream",
     "text": [
      "Enter Radius : 20\n",
      "1256.0\n",
      "125.60000000000001\n"
     ]
    }
   ],
   "source": [
    "class circle:\n",
    "    def __init__(self):\n",
    "        self.r=int(input(\"Enter Radius : \"))\n",
    "    def getArea(self):\n",
    "        print(3.14*self.r**2)\n",
    "    def getCircumference(self):\n",
    "        print(2*3.14*self.r)\n",
    "c=circle()\n",
    "c.getArea()\n",
    "c.getCircumference()"
   ]
  },
  {
   "cell_type": "code",
   "execution_count": 26,
   "id": "fc7fd2d0",
   "metadata": {},
   "outputs": [
    {
     "name": "stdout",
     "output_type": "stream",
     "text": [
      "Enter Name : Yash Soni\n",
      "Enter Age : 21\n",
      "Enter Address : Near, Riktya Bheruji Temple\n",
      "Name :  Yash Soni\n",
      "Age :  21\n",
      "Address :  Near, Riktya Bheruji Temple\n"
     ]
    }
   ],
   "source": [
    "class Account:\n",
    "    def __init__(self):\n",
    "        self.name=input(\"Enter Name : \")\n",
    "        self.age=int(input(\"Enter Age : \"))\n",
    "        self.address=input(\"Enter Address : \")\n",
    "    def display(self):\n",
    "        print(\"Name : \",self.name)\n",
    "        print(\"Age : \",self.age)\n",
    "        print(\"Address : \",self.address)\n",
    "a=Account()\n",
    "a.display()"
   ]
  },
  {
   "cell_type": "code",
   "execution_count": 28,
   "id": "f6f47e60",
   "metadata": {},
   "outputs": [
    {
     "name": "stdout",
     "output_type": "stream",
     "text": [
      "Name :  Yash\n",
      "Age :  21\n",
      "Enrollment Number :  0187CS211188\n",
      "Branch :  CSE\n",
      "Semester :  IV\n"
     ]
    }
   ],
   "source": [
    "class Student:\n",
    "    def getData(self, name, age, enroll, branch, semester):\n",
    "        self.name= name\n",
    "        self.age=age\n",
    "        self.enroll=enroll\n",
    "        self.branch=branch\n",
    "        self.semester=semester\n",
    "    def putData(self):\n",
    "        print(\"Name : \",self.name)\n",
    "        print(\"Age : \",self.age)\n",
    "        print(\"Enrollment Number : \",self.enroll)\n",
    "        print(\"Branch : \",self.branch)\n",
    "        print(\"Semester : \",self.semester)\n",
    "s=Student()\n",
    "s.getData(\"Yash\",21,\"0187CS211188\",\"CSE\",\"IV\")\n",
    "s.putData()\n",
    "        "
   ]
  },
  {
   "cell_type": "code",
   "execution_count": null,
   "id": "06b562a9",
   "metadata": {},
   "outputs": [],
   "source": []
  }
 ],
 "metadata": {
  "kernelspec": {
   "display_name": "Python 3 (ipykernel)",
   "language": "python",
   "name": "python3"
  },
  "language_info": {
   "codemirror_mode": {
    "name": "ipython",
    "version": 3
   },
   "file_extension": ".py",
   "mimetype": "text/x-python",
   "name": "python",
   "nbconvert_exporter": "python",
   "pygments_lexer": "ipython3",
   "version": "3.9.12"
  }
 },
 "nbformat": 4,
 "nbformat_minor": 5
}
