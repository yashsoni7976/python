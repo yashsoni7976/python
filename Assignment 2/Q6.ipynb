{
 "cells": [
  {
   "cell_type": "raw",
   "id": "542c31e9-df0e-4bea-998f-751b34fed87f",
   "metadata": {},
   "source": [
    "Q6. What is a complex number in mathematics, and how is it represented in Python?"
   ]
  },
  {
   "cell_type": "raw",
   "id": "1309170d-a783-4ad5-ac2a-0466e7f6bce2",
   "metadata": {},
   "source": [
    "A complex number is a number that can be represented in the from of a+ib, where 'a' represents the real part\n",
    "and the 'b' represent the imaginary part."
   ]
  },
  {
   "cell_type": "code",
   "execution_count": 1,
   "id": "c47c8281-1a16-4048-a6e7-7c6c0dc3d094",
   "metadata": {},
   "outputs": [],
   "source": [
    "#we can represent the complex number in python as follows\n",
    "comp=5+6j"
   ]
  },
  {
   "cell_type": "code",
   "execution_count": 2,
   "id": "f390c4b9-f6fb-4a2d-8b28-02c6edb5d7e1",
   "metadata": {},
   "outputs": [
    {
     "data": {
      "text/plain": [
       "complex"
      ]
     },
     "execution_count": 2,
     "metadata": {},
     "output_type": "execute_result"
    }
   ],
   "source": [
    "type(comp)"
   ]
  },
  {
   "cell_type": "code",
   "execution_count": null,
   "id": "ffd414e5-3620-4c33-b569-193f2aaec7c4",
   "metadata": {},
   "outputs": [],
   "source": []
  }
 ],
 "metadata": {
  "kernelspec": {
   "display_name": "Python 3 (ipykernel)",
   "language": "python",
   "name": "python3"
  },
  "language_info": {
   "codemirror_mode": {
    "name": "ipython",
    "version": 3
   },
   "file_extension": ".py",
   "mimetype": "text/x-python",
   "name": "python",
   "nbconvert_exporter": "python",
   "pygments_lexer": "ipython3",
   "version": "3.10.8"
  }
 },
 "nbformat": 4,
 "nbformat_minor": 5
}
