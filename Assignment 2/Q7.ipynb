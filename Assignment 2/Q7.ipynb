{
 "cells": [
  {
   "cell_type": "raw",
   "id": "5bb95d93-508c-4fc9-ba31-25fdfa348741",
   "metadata": {},
   "source": [
    "Q7. What is the correct way to declare a variable named age and assign the value 25 to it?"
   ]
  },
  {
   "cell_type": "code",
   "execution_count": null,
   "id": "c17fa59b-a2cc-4962-84ab-222c1e9ca13b",
   "metadata": {},
   "outputs": [],
   "source": [
    "age=25\n",
    "#it is the correct way to declare a variable and assign the value. by typing the variable name and using assignment operator"
   ]
  },
  {
   "cell_type": "code",
   "execution_count": null,
   "id": "405e86e6-9b1f-4642-8889-1e80050e03a4",
   "metadata": {},
   "outputs": [],
   "source": []
  }
 ],
 "metadata": {
  "kernelspec": {
   "display_name": "Python 3 (ipykernel)",
   "language": "python",
   "name": "python3"
  },
  "language_info": {
   "codemirror_mode": {
    "name": "ipython",
    "version": 3
   },
   "file_extension": ".py",
   "mimetype": "text/x-python",
   "name": "python",
   "nbconvert_exporter": "python",
   "pygments_lexer": "ipython3",
   "version": "3.10.8"
  }
 },
 "nbformat": 4,
 "nbformat_minor": 5
}
