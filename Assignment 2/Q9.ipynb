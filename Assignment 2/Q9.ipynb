{
 "cells": [
  {
   "cell_type": "raw",
   "id": "10a3357a-29ef-4504-8a64-b1c9af7c5431",
   "metadata": {},
   "source": [
    "Q9. Create a variable named name and assign your full name to it as a string. How would you print the\n",
    "value of this variable?"
   ]
  },
  {
   "cell_type": "code",
   "execution_count": 1,
   "id": "27c2478e-56a7-4fca-b066-de9f3e582f39",
   "metadata": {},
   "outputs": [],
   "source": [
    "name=\"Yash Soni\""
   ]
  },
  {
   "cell_type": "code",
   "execution_count": 2,
   "id": "8d3306ee-0fca-4f70-9322-c86043696859",
   "metadata": {},
   "outputs": [
    {
     "name": "stdout",
     "output_type": "stream",
     "text": [
      "Yash Soni\n"
     ]
    }
   ],
   "source": [
    "\"\"\" to print the string we will use print function and pass the name variable in it\"\"\"\n",
    "print(name)"
   ]
  },
  {
   "cell_type": "code",
   "execution_count": null,
   "id": "a61e914f-2b45-41c2-adea-e82ca14c26af",
   "metadata": {},
   "outputs": [],
   "source": []
  }
 ],
 "metadata": {
  "kernelspec": {
   "display_name": "Python 3 (ipykernel)",
   "language": "python",
   "name": "python3"
  },
  "language_info": {
   "codemirror_mode": {
    "name": "ipython",
    "version": 3
   },
   "file_extension": ".py",
   "mimetype": "text/x-python",
   "name": "python",
   "nbconvert_exporter": "python",
   "pygments_lexer": "ipython3",
   "version": "3.10.8"
  }
 },
 "nbformat": 4,
 "nbformat_minor": 5
}
