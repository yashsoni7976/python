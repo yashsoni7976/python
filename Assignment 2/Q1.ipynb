{
 "cells": [
  {
   "cell_type": "raw",
   "id": "eca620f7-d27c-40d2-911e-a88e70569c63",
   "metadata": {},
   "source": [
    "Q1. How do you comment code in Python? What are the different types of comments?"
   ]
  },
  {
   "cell_type": "raw",
   "id": "aa0d9060-f1c7-4409-9324-ed179ee0495d",
   "metadata": {},
   "source": [
    "To comment code in python we simply use (#) symbol to any statements prefix. It helps to intepret the compiler that this line\n",
    "of code is not to executed..\n",
    "\n",
    "There are mainly 2 types of comment:-\n",
    "1) # - It is used for single line comment\n",
    "\tfor example: #My name is Nobody.\n",
    "2) \"\"\"- It is maily used for multi-line comment\n",
    "\tfor example: \"\"\"My name is Nobody\n",
    "\t\t\t\t\thow are you my friend..\"\"\""
   ]
  }
 ],
 "metadata": {
  "kernelspec": {
   "display_name": "Python 3 (ipykernel)",
   "language": "python",
   "name": "python3"
  },
  "language_info": {
   "codemirror_mode": {
    "name": "ipython",
    "version": 3
   },
   "file_extension": ".py",
   "mimetype": "text/x-python",
   "name": "python",
   "nbconvert_exporter": "python",
   "pygments_lexer": "ipython3",
   "version": "3.10.8"
  }
 },
 "nbformat": 4,
 "nbformat_minor": 5
}
