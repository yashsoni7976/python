{
 "cells": [
  {
   "cell_type": "raw",
   "id": "cb43a457-9fad-447c-b45d-79e88f04c650",
   "metadata": {},
   "source": [
    "Q3. Explain the use of the following operators using an example:\n",
    "(i) /\n",
    "(ii) %\n",
    "(iii) //\n",
    "(iv) **"
   ]
  },
  {
   "cell_type": "code",
   "execution_count": 1,
   "id": "168d99ce-3d57-4f8e-a1f6-24d569ffda9b",
   "metadata": {},
   "outputs": [
    {
     "data": {
      "text/plain": [
       "2.5"
      ]
     },
     "execution_count": 1,
     "metadata": {},
     "output_type": "execute_result"
    }
   ],
   "source": [
    "# (i) '/' its a divison operator, it is use to divide two numbers and gives the quotient as an answer\n",
    "# Example\n",
    "\n",
    "5/2"
   ]
  },
  {
   "cell_type": "code",
   "execution_count": 6,
   "id": "474f772a-5d66-4691-8421-cd87b482a9d6",
   "metadata": {},
   "outputs": [
    {
     "data": {
      "text/plain": [
       "1.0"
      ]
     },
     "execution_count": 6,
     "metadata": {},
     "output_type": "execute_result"
    }
   ],
   "source": [
    "# (ii) '%' its a modulo operator, it is use to divide two numbers and gives the remainder as an answer\n",
    "# Example\n",
    "5.0%2"
   ]
  },
  {
   "cell_type": "code",
   "execution_count": 8,
   "id": "9cb71a7e-c3e0-495f-860d-590659e63071",
   "metadata": {},
   "outputs": [
    {
     "data": {
      "text/plain": [
       "1"
      ]
     },
     "execution_count": 8,
     "metadata": {},
     "output_type": "execute_result"
    }
   ],
   "source": [
    "# (iii) '//' its a floor divison operator, it is use to divide two numbers and return the integer as an answer\n",
    "# Example\n",
    "5//3"
   ]
  },
  {
   "cell_type": "code",
   "execution_count": 9,
   "id": "450a04b4-bd51-4a60-a2c4-4c8036957037",
   "metadata": {},
   "outputs": [
    {
     "data": {
      "text/plain": [
       "8"
      ]
     },
     "execution_count": 9,
     "metadata": {},
     "output_type": "execute_result"
    }
   ],
   "source": [
    "# (iv) '**' its a exponential operator, it is use to find the powers of the number\n",
    "# Example\n",
    "2**3"
   ]
  }
 ],
 "metadata": {
  "kernelspec": {
   "display_name": "Python 3 (ipykernel)",
   "language": "python",
   "name": "python3"
  },
  "language_info": {
   "codemirror_mode": {
    "name": "ipython",
    "version": 3
   },
   "file_extension": ".py",
   "mimetype": "text/x-python",
   "name": "python",
   "nbconvert_exporter": "python",
   "pygments_lexer": "ipython3",
   "version": "3.10.8"
  }
 },
 "nbformat": 4,
 "nbformat_minor": 5
}
