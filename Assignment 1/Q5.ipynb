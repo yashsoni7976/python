{
 "cells": [
  {
   "cell_type": "raw",
   "id": "c41ef6e4-6592-4140-ba2b-eee729488ad0",
   "metadata": {},
   "source": [
    "Using a while loop, verify if the number A is purely divisible by number B and if so then how many\n",
    "times it can be divisible."
   ]
  },
  {
   "cell_type": "code",
   "execution_count": null,
   "id": "a27af440-37e1-4fba-965c-bd452db3cdc0",
   "metadata": {},
   "outputs": [],
   "source": [
    "num_1 = int(input())\n",
    "num_2 = int(input())\n",
    "\n",
    "while(num_1"
   ]
  }
 ],
 "metadata": {
  "kernelspec": {
   "display_name": "Python 3 (ipykernel)",
   "language": "python",
   "name": "python3"
  },
  "language_info": {
   "codemirror_mode": {
    "name": "ipython",
    "version": 3
   },
   "file_extension": ".py",
   "mimetype": "text/x-python",
   "name": "python",
   "nbconvert_exporter": "python",
   "pygments_lexer": "ipython3",
   "version": "3.10.8"
  }
 },
 "nbformat": 4,
 "nbformat_minor": 5
}
