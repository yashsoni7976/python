{
 "cells": [
  {
   "cell_type": "code",
   "execution_count": 2,
   "id": "4506289b",
   "metadata": {},
   "outputs": [
    {
     "name": "stdout",
     "output_type": "stream",
     "text": [
      "Enter Book Number : 12\n",
      "Enter Book Title : hell\n",
      "Enter Book Price : 1200\n",
      "Enter Number of Copies : 10\n",
      "Total price of    with  10  Copies is  12000\n"
     ]
    }
   ],
   "source": [
    "class BOOK:\n",
    "    book_no=int()\n",
    "    Book_title=str()\n",
    "    price=int()\n",
    "    \n",
    "    def totalCost(self,n):\n",
    "        return self.price*n\n",
    "    \n",
    "    def Input(self):\n",
    "        self.book_no=int(input(\"Enter Book Number : \"))\n",
    "        self.book_title=input(\"Enter Book Title : \")\n",
    "        self.price=int(input(\"Enter Book Price : \"))      \n",
    "        \n",
    "    def Purchase(self):\n",
    "        copies=int(input(\"Enter Number of Copies : \"))\n",
    "        self.totprice=self.totalCost(copies)\n",
    "        print(\"Total price of \",self.Book_title,\" with \",copies,\" Copies is \",self.totprice)\n",
    "        \n",
    "t1=BOOK()\n",
    "t1.Input()\n",
    "t1.Purchase()"
   ]
  },
  {
   "cell_type": "code",
   "execution_count": null,
   "id": "72619e90",
   "metadata": {},
   "outputs": [],
   "source": []
  },
  {
   "cell_type": "code",
   "execution_count": null,
   "id": "5adfa896",
   "metadata": {},
   "outputs": [],
   "source": []
  },
  {
   "cell_type": "code",
   "execution_count": null,
   "id": "384cea01",
   "metadata": {},
   "outputs": [],
   "source": []
  }
 ],
 "metadata": {
  "kernelspec": {
   "display_name": "Python 3 (ipykernel)",
   "language": "python",
   "name": "python3"
  },
  "language_info": {
   "codemirror_mode": {
    "name": "ipython",
    "version": 3
   },
   "file_extension": ".py",
   "mimetype": "text/x-python",
   "name": "python",
   "nbconvert_exporter": "python",
   "pygments_lexer": "ipython3",
   "version": "3.9.12"
  }
 },
 "nbformat": 4,
 "nbformat_minor": 5
}
