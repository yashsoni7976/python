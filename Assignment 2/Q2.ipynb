{
 "cells": [
  {
   "cell_type": "raw",
   "id": "f06de6e3-c5ec-4a00-b96f-7f84c94954c2",
   "metadata": {},
   "source": [
    "Q2. What are variables in Python? How do you declare and assign values to variables?"
   ]
  },
  {
   "cell_type": "raw",
   "id": "e06dcb94-ab59-441c-832f-8ad008838c45",
   "metadata": {},
   "source": [
    "Variables are the container that has some name to recognize. Variables job is to contain certain data like integer, float,\n",
    "character, string into it and save it in the memory so that we can simply retrieve it.It is used to store a piece of information.\n",
    "\n",
    "We can declare and assign a value to variable by using assignment operator that is (=).\n",
    "For Example- i=9\n",
    "This examples shows that the variable i holds an integer value 9.\n",
    "\n"
   ]
  },
  {
   "cell_type": "code",
   "execution_count": 1,
   "id": "d1a906da-3d9e-425d-8906-f195e73c63f4",
   "metadata": {},
   "outputs": [],
   "source": [
    "i=10"
   ]
  },
  {
   "cell_type": "code",
   "execution_count": 2,
   "id": "70ccd538-f8d7-43c2-bf32-d3f624b919b7",
   "metadata": {},
   "outputs": [],
   "source": [
    "x,y,z=10,20,30"
   ]
  },
  {
   "cell_type": "code",
   "execution_count": 3,
   "id": "149752f3-7a73-4138-9dc0-11381d29c86e",
   "metadata": {},
   "outputs": [
    {
     "name": "stdout",
     "output_type": "stream",
     "text": [
      "10 10 20 30\n"
     ]
    }
   ],
   "source": [
    "print(i,x,y,z)"
   ]
  },
  {
   "cell_type": "code",
   "execution_count": null,
   "id": "4b7cbf80-38d2-46b3-a76d-72846de51fd3",
   "metadata": {},
   "outputs": [],
   "source": []
  }
 ],
 "metadata": {
  "kernelspec": {
   "display_name": "Python 3 (ipykernel)",
   "language": "python",
   "name": "python3"
  },
  "language_info": {
   "codemirror_mode": {
    "name": "ipython",
    "version": 3
   },
   "file_extension": ".py",
   "mimetype": "text/x-python",
   "name": "python",
   "nbconvert_exporter": "python",
   "pygments_lexer": "ipython3",
   "version": "3.10.8"
  }
 },
 "nbformat": 4,
 "nbformat_minor": 5
}
